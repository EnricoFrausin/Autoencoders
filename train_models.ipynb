{
 "cells": [
  {
   "cell_type": "markdown",
   "id": "7771820b",
   "metadata": {},
   "source": [
    "# Initialize"
   ]
  },
  {
   "cell_type": "code",
   "execution_count": 1,
   "id": "e526374e",
   "metadata": {},
   "outputs": [],
   "source": [
    "%load_ext autoreload\n",
    "%autoreload 2"
   ]
  },
  {
   "cell_type": "code",
   "execution_count": null,
   "id": "42ea74f6",
   "metadata": {},
   "outputs": [],
   "source": [
    "import torch\n",
    "from torchvision import datasets, transforms\n",
    "import numpy as np\n",
    "import torch.optim as optim\n",
    "from torch.utils.data import DataLoader\n",
    "from torch.utils.tensorboard import SummaryWriter\n",
    "from torch import nn\n",
    "import matplotlib.pyplot as plt\n",
    "\n",
    "\n",
    "from AE.models import AE_0\n",
    "from AE.train import train\n",
    "from AE.datasets import MNISTDigit2Dataset\n",
    "from AE.utils import get_binary_latent_frequencies, analyze_binary_frequencies\n",
    "from AE.plotter_functions import plot_original_vs_decoded"
   ]
  },
  {
   "cell_type": "code",
   "execution_count": 4,
   "id": "5f2f1083",
   "metadata": {},
   "outputs": [
    {
     "name": "stdout",
     "output_type": "stream",
     "text": [
      "Utilizzo Apple Silicon GPU (MPS)\n"
     ]
    },
    {
     "data": {
      "text/plain": [
       "<torch._C.Generator at 0x10d92bfb0>"
      ]
     },
     "execution_count": 4,
     "metadata": {},
     "output_type": "execute_result"
    }
   ],
   "source": [
    "if torch.backends.mps.is_available():\n",
    "    device = torch.device(\"mps\")\n",
    "    print(\"Utilizzo Apple Silicon GPU (MPS)\")\n",
    "elif torch.cuda.is_available():\n",
    "    device = torch.device(\"cuda\")\n",
    "    print(\"Utilizzo NVIDIA GPU (CUDA)\")\n",
    "else:\n",
    "    device = torch.device(\"cpu\")\n",
    "    print(\"Utilizzo la CPU\")\n",
    "\n",
    "device = torch.device(\"cpu\")  # Fallback to CPU if no GPU is available\n",
    "\n",
    "SEED = 42\n",
    "torch.manual_seed(SEED)"
   ]
  },
  {
   "cell_type": "markdown",
   "id": "56fa9424",
   "metadata": {},
   "source": [
    "# Datasets\n"
   ]
  },
  {
   "cell_type": "code",
   "execution_count": 5,
   "id": "de3a7528",
   "metadata": {},
   "outputs": [],
   "source": [
    "batch_size = 64"
   ]
  },
  {
   "cell_type": "markdown",
   "id": "da45cb3e",
   "metadata": {},
   "source": [
    "## MNIST\n"
   ]
  },
  {
   "cell_type": "code",
   "execution_count": 6,
   "id": "5eb36d08",
   "metadata": {},
   "outputs": [],
   "source": [
    "\n",
    "train_loader_MNIST = torch.utils.data.DataLoader(\n",
    "    datasets.MNIST(\n",
    "        '/Users/enricofrausin/Programmazione/PythonProjects/Fisica/data',\n",
    "        train=True,\n",
    "        download=True,\n",
    "        transform=transforms.ToTensor()\n",
    "        ),\n",
    "    batch_size=batch_size,\n",
    "    shuffle=True\n",
    "    )\n",
    "\n",
    "val_loader_MNIST = torch.utils.data.DataLoader(\n",
    "    datasets.MNIST(\n",
    "        '/Users/enricofrausin/Programmazione/PythonProjects/Fisica/data',\n",
    "        train=False,\n",
    "        download=True,\n",
    "        transform=transforms.ToTensor()\n",
    "        ),\n",
    "    batch_size=batch_size,\n",
    "    shuffle=False\n",
    "    )\n"
   ]
  },
  {
   "cell_type": "markdown",
   "id": "a9be5ba0",
   "metadata": {},
   "source": [
    "\n",
    "## ExtendedMNIST\n"
   ]
  },
  {
   "cell_type": "code",
   "execution_count": 7,
   "id": "92a257df",
   "metadata": {},
   "outputs": [],
   "source": [
    "\n",
    "train_loader_EMNIST = torch.utils.data.DataLoader(\n",
    "    datasets.EMNIST(\n",
    "        '/Users/enricofrausin/Programmazione/PythonProjects/Fisica/data',\n",
    "        split='balanced',\n",
    "        train=True,\n",
    "        download=True,\n",
    "        transform=transforms.ToTensor()\n",
    "        ),\n",
    "    batch_size=batch_size,\n",
    "    shuffle=True\n",
    "    )\n",
    "\n",
    "val_loader_EMNIST = torch.utils.data.DataLoader(\n",
    "    datasets.EMNIST(\n",
    "        '/Users/enricofrausin/Programmazione/PythonProjects/Fisica/data',\n",
    "        split='balanced',\n",
    "        train=False,\n",
    "        download=True,\n",
    "        transform=transforms.ToTensor()\n",
    "        ),\n",
    "    batch_size=batch_size,\n",
    "    shuffle=False\n",
    "    )\n"
   ]
  },
  {
   "cell_type": "markdown",
   "id": "bd0deb7f",
   "metadata": {},
   "source": [
    "\n",
    "## 2MNIST\n"
   ]
  },
  {
   "cell_type": "code",
   "execution_count": 8,
   "id": "802095a4",
   "metadata": {},
   "outputs": [
    {
     "name": "stdout",
     "output_type": "stream",
     "text": [
      "Found 5958 original samples of digit '2'\n",
      "Generated 60000 augmented samples\n",
      "Dataset size: 60000\n",
      "Image shape: torch.Size([1, 28, 28])\n",
      "Label: 2\n",
      "Batch images shape: torch.Size([64, 1, 28, 28])\n",
      "Batch labels shape: torch.Size([64])\n",
      "All labels are 2: True\n",
      "\n",
      "––––––––––––––––––––––––––––––––––––––––––––––––––––––\n",
      "\n",
      "Found 1032 original samples of digit '2'\n",
      "Generated 10000 augmented samples\n",
      "Dataset size: 60000\n",
      "Image shape: torch.Size([1, 28, 28])\n",
      "Label: 2\n",
      "All labels are 2: True\n",
      "Batch images shape: torch.Size([64, 1, 28, 28])\n",
      "Batch labels shape: torch.Size([64])\n",
      "All labels are 2: True\n"
     ]
    }
   ],
   "source": [
    "\n",
    "dataset_2MNIST_train = MNISTDigit2Dataset(train=True, download=True, target_size=60000)\n",
    "print(f\"Dataset size: {len(dataset_2MNIST_train)}\")\n",
    "print(f\"Image shape: {dataset_2MNIST_train[0][0].shape}\")\n",
    "print(f\"Label: {dataset_2MNIST_train[0][1]}\")\n",
    "train_loader_2MNIST = DataLoader(dataset_2MNIST_train, batch_size=batch_size, shuffle=True)\n",
    "\n",
    "batch_images, batch_labels = next(iter(train_loader_2MNIST))\n",
    "print(f\"Batch images shape: {batch_images.shape}\")\n",
    "print(f\"Batch labels shape: {batch_labels.shape}\")\n",
    "print(f\"All labels are 2: {torch.all(batch_labels == 2)}\")\n",
    "\n",
    "print(\"\\n––––––––––––––––––––––––––––––––––––––––––––––––––––––\\n\")\n",
    "\n",
    "dataset_2MNIST_val = MNISTDigit2Dataset(train=False, download=True, target_size=10000)\n",
    "print(f\"Dataset size: {len(dataset_2MNIST_train)}\")\n",
    "print(f\"Image shape: {dataset_2MNIST_train[0][0].shape}\")\n",
    "print(f\"Label: {dataset_2MNIST_train[0][1]}\")\n",
    "print(f\"All labels are 2: {torch.all(batch_labels == 2)}\")\n",
    "val_loader_2MNIST = DataLoader(dataset_2MNIST_val, batch_size=batch_size, shuffle=True)\n",
    "\n",
    "print(f\"Batch images shape: {batch_images.shape}\")\n",
    "print(f\"Batch labels shape: {batch_labels.shape}\")\n",
    "print(f\"All labels are 2: {torch.all(batch_labels == 2)}\")\n"
   ]
  },
  {
   "cell_type": "markdown",
   "id": "b137f72b",
   "metadata": {},
   "source": [
    "\n",
    "## FashionMNIST\n"
   ]
  },
  {
   "cell_type": "code",
   "execution_count": null,
   "id": "3e545536",
   "metadata": {},
   "outputs": [],
   "source": [
    "\n",
    "train_loader_FashionMNIST = torch.utils.data.DataLoader(\n",
    "    datasets.FashionMNIST(\n",
    "        '/Users/enricofrausin/Programmazione/PythonProjects/Fisica/data',\n",
    "        train=True,\n",
    "        download=True,\n",
    "        transform=transforms.ToTensor()\n",
    "        ),\n",
    "    batch_size=batch_size,\n",
    "    shuffle=True\n",
    "    )\n",
    "\n",
    "val_loader_FashionMNIST = torch.utils.data.DataLoader(\n",
    "    datasets.FashionMNIST(\n",
    "        '/Users/enricofrausin/Programmazione/PythonProjects/Fisica/data',\n",
    "        train=False,\n",
    "        download=True,\n",
    "        transform=transforms.ToTensor()\n",
    "        ),\n",
    "    batch_size=batch_size,\n",
    "    shuffle=False\n",
    "    )\n"
   ]
  },
  {
   "cell_type": "markdown",
   "id": "2f0ab4c4",
   "metadata": {},
   "source": [
    "\n",
    "## OTHERS\n"
   ]
  },
  {
   "cell_type": "code",
   "execution_count": null,
   "id": "61c223ce",
   "metadata": {},
   "outputs": [],
   "source": [
    "## train over pureHFM\n",
    "\n",
    "dataset_HFM_train = Dataset_pureHFM(csv_file='/Users/enricofrausin/Programmazione/PythonProjects/Fisica/data/pureHFM/512features/glog2_train60000.pt',\n",
    "                        root_dir='/Users/enricofrausin/Programmazione/PythonProjects/Fisica/data/pureHFM')\n",
    "\n",
    "train_loader_pureHFM = DataLoader(\n",
    "    dataset_HFM_train,\n",
    "    batch_size=md.batch_size,\n",
    "    shuffle=True\n",
    ")\n",
    "\n",
    "dataset_HFM_val = Dataset_pureHFM(csv_file='/Users/enricofrausin/Programmazione/PythonProjects/Fisica/data/pureHFM/512features/glog2_validation10000.pt',\n",
    "                            root_dir='/Users/enricofrausin/Programmazione/PythonProjects/Fisica/data/pureHFM')\n",
    "\n",
    "val_loader_pureHFM = DataLoader(\n",
    "    dataset_HFM_val, # Importante: usa dataset_HFM_val qui, non dataset_HFM\n",
    "    batch_size=md.batch_size,\n",
    "    shuffle=False\n",
    ")\n",
    "## train over expandedHFM\n",
    "dataset_HFM_train = Dataset_HFM(csv_file='/Users/enricofrausin/Programmazione/PythonProjects/Fisica/data/expandedHFM/16_1024features/2hl_glog2_train60000.pt',\n",
    "                        root_dir='/Users/enricofrausin/Programmazione/PythonProjects/Fisica/data/pureHFM')\n",
    "\n",
    "train_loader_expandedHFM = DataLoader(\n",
    "    dataset_HFM_train,\n",
    "    batch_size=md.batch_size,\n",
    "    shuffle=True\n",
    ")\n",
    "\n",
    "dataset_HFM_val = Dataset_HFM(csv_file='/Users/enricofrausin/Programmazione/PythonProjects/Fisica/data/expandedHFM/16_1024features/2hl_glog2_validation10000.pt',\n",
    "                            root_dir='/Users/enricofrausin/Programmazione/PythonProjects/Fisica/data/pureHFM')\n",
    "\n",
    "val_loader_expandedHFM = DataLoader(\n",
    "    dataset_HFM_val, # Importante: usa dataset_HFM_val qui, non dataset_HFM\n",
    "    batch_size=md.batch_size,\n",
    "    shuffle=False\n",
    ")\n",
    "## train over expandedHFM 32-1024\n",
    "dataset_HFM_train = Dataset_HFM(csv_file='/Users/enricofrausin/Programmazione/PythonProjects/Fisica/data/expandedHFM/32_1024features/2hl_glog2_train60000.pt',\n",
    "                        root_dir='/Users/enricofrausin/Programmazione/PythonProjects/Fisica/data/pureHFM')\n",
    "\n",
    "train_loader_expandedHFM_32_1024 = DataLoader(\n",
    "    dataset_HFM_train,\n",
    "    batch_size=md.batch_size,\n",
    "    shuffle=True\n",
    ")\n",
    "\n",
    "dataset_HFM_val = Dataset_HFM(csv_file='/Users/enricofrausin/Programmazione/PythonProjects/Fisica/data/expandedHFM/32_1024features/2hl_glog2_validation10000.pt',\n",
    "                            root_dir='/Users/enricofrausin/Programmazione/PythonProjects/Fisica/data/pureHFM')\n",
    "\n",
    "val_loader_expandedHFM_32_1024 = DataLoader(\n",
    "    dataset_HFM_val, # Importante: usa dataset_HFM_val qui, non dataset_HFM\n",
    "    batch_size=md.batch_size,\n",
    "    shuffle=False\n",
    ")\n"
   ]
  },
  {
   "cell_type": "markdown",
   "id": "60fc5dc6",
   "metadata": {},
   "source": [
    "# Autoencoders model 0\n"
   ]
  },
  {
   "cell_type": "code",
   "execution_count": 15,
   "id": "ffa9c5ea",
   "metadata": {},
   "outputs": [],
   "source": [
    "learning_rate = 1e-3\n",
    "weight_decay = 1e-5\n"
   ]
  },
  {
   "cell_type": "markdown",
   "id": "9dcebec4",
   "metadata": {},
   "source": [
    "\n",
    "## EMNIST\n"
   ]
  },
  {
   "cell_type": "code",
   "execution_count": 18,
   "id": "9ab78264",
   "metadata": {},
   "outputs": [],
   "source": [
    "train_loader = train_loader_EMNIST\n",
    "val_loader = val_loader_EMNIST\n",
    "input_dim = 784\n"
   ]
  },
  {
   "cell_type": "markdown",
   "id": "9434c476",
   "metadata": {},
   "source": [
    "\n",
    "### 8 features\n"
   ]
  },
  {
   "cell_type": "code",
   "execution_count": null,
   "id": "ce0bac31",
   "metadata": {},
   "outputs": [],
   "source": [
    "my_model = AE_0(input_dim=input_dim, latent_dim=8, decrease_rate=0.5, device=device, hidden_layers=1, output_activation_encoder=nn.Sigmoid).to(device)\n",
    "my_model.load_state_dict(torch.load('/Users/enricofrausin/Programmazione/PythonProjects/Tesi/Autoencoders/models/EMNIST/ld8_ep15_dr05_1hl.pth', map_location=my_model.device))\n"
   ]
  },
  {
   "cell_type": "code",
   "execution_count": null,
   "id": "c4c9513d",
   "metadata": {},
   "outputs": [],
   "source": [
    "writer = SummaryWriter(log_dir='/Users/enricofrausin/Programmazione/PythonProjects/Tesi/Autoencoders/runs/EMNIST/ld8_ep15_dr05_1hl')\n",
    "my_model = AE_0(input_dim=input_dim, latent_dim=8, decrease_rate=0.5, device=device, hidden_layers=1, output_activation_encoder=nn.Sigmoid).to(device)\n",
    "optimizer = optim.Adam(my_model.parameters(), lr=learning_rate, weight_decay=weight_decay)\n",
    "train(my_model, writer=writer, train_loader=train_loader, val_loader=val_loader, optimizer=optimizer, epochs=15)\n",
    "torch.save(my_model.state_dict(), '/Users/enricofrausin/Programmazione/PythonProjects/Tesi/Autoencoders/models/EMNIST/ld8_ep15_dr05_1hl.pth')\n"
   ]
  },
  {
   "cell_type": "code",
   "execution_count": null,
   "id": "2018b6e7",
   "metadata": {},
   "outputs": [],
   "source": [
    "writer = SummaryWriter(log_dir='/Users/enricofrausin/Programmazione/PythonProjects/Tesi/Autoencoders/runs/EMNIST/ld8_ep15_dr05_1hl_1')\n",
    "my_model = AE_0(input_dim=input_dim, latent_dim=8, decrease_rate=0.5, device=device, hidden_layers=1).to(device)\n",
    "optimizer = optim.Adam(my_model.parameters(), lr=learning_rate, weight_decay=weight_decay)\n",
    "train(my_model, writer=writer, train_loader=train_loader, val_loader=val_loader, optimizer=optimizer, epochs=15)\n",
    "torch.save(my_model.state_dict(), '/Users/enricofrausin/Programmazione/PythonProjects/Tesi/Autoencoders/models/EMNIST/ld8_ep15_dr05_1hl_1.pth')\n",
    "\n"
   ]
  },
  {
   "cell_type": "markdown",
   "id": "92ac8dda",
   "metadata": {},
   "source": [
    "# controlliamo"
   ]
  },
  {
   "cell_type": "code",
   "execution_count": 14,
   "id": "1efa4531",
   "metadata": {},
   "outputs": [],
   "source": [
    "from torch.optim.lr_scheduler import StepLR"
   ]
  },
  {
   "cell_type": "code",
   "execution_count": 51,
   "id": "706848fd",
   "metadata": {},
   "outputs": [],
   "source": [
    "from torch.optim.lr_scheduler import ExponentialLR"
   ]
  },
  {
   "cell_type": "markdown",
   "id": "723ac936",
   "metadata": {},
   "source": [
    "# MNIST"
   ]
  },
  {
   "cell_type": "code",
   "execution_count": 84,
   "id": "4ecf1c33",
   "metadata": {},
   "outputs": [],
   "source": [
    "train_loader = train_loader_MNIST\n",
    "val_loader = val_loader_MNIST\n",
    "input_dim = 784"
   ]
  },
  {
   "cell_type": "code",
   "execution_count": 85,
   "id": "95f9de79",
   "metadata": {},
   "outputs": [],
   "source": [
    "learning_rate = 1e-3\n",
    "weight_decay = 1e-5"
   ]
  },
  {
   "cell_type": "markdown",
   "id": "956b52b9",
   "metadata": {},
   "source": [
    "## 8 features"
   ]
  },
  {
   "cell_type": "code",
   "execution_count": null,
   "id": "1cbeb9e5",
   "metadata": {},
   "outputs": [
    {
     "name": "stdout",
     "output_type": "stream",
     "text": [
      "Epoch: 0/15, Average loss: 0.0006\n",
      "Epoch: 1/15, Average loss: 0.0004\n",
      "Epoch: 2/15, Average loss: 0.0004\n",
      "Epoch: 3/15, Average loss: 0.0004\n",
      "Epoch: 4/15, Average loss: 0.0004\n",
      "Epoch: 5/15, Average loss: 0.0004\n",
      "Epoch: 6/15, Average loss: 0.0004\n",
      "Epoch: 7/15, Average loss: 0.0004\n",
      "Epoch: 8/15, Average loss: 0.0004\n",
      "Epoch: 9/15, Average loss: 0.0004\n",
      "Epoch: 10/15, Average loss: 0.0004\n",
      "Epoch: 11/15, Average loss: 0.0004\n",
      "Epoch: 12/15, Average loss: 0.0004\n",
      "Epoch: 13/15, Average loss: 0.0004\n",
      "Epoch: 14/15, Average loss: 0.0004\n",
      "Training completed. Final training loss: 0.00039343795993675786, Validation loss: 0.0003899347236379981\n",
      "Epoch: 0/15, Average loss: 0.0006\n",
      "Epoch: 1/15, Average loss: 0.0004\n",
      "Epoch: 2/15, Average loss: 0.0004\n",
      "Epoch: 3/15, Average loss: 0.0004\n",
      "Epoch: 4/15, Average loss: 0.0004\n",
      "Epoch: 5/15, Average loss: 0.0004\n",
      "Epoch: 6/15, Average loss: 0.0004\n",
      "Epoch: 7/15, Average loss: 0.0004\n",
      "Epoch: 8/15, Average loss: 0.0004\n",
      "Epoch: 9/15, Average loss: 0.0004\n",
      "Epoch: 10/15, Average loss: 0.0004\n",
      "Epoch: 11/15, Average loss: 0.0003\n",
      "Epoch: 12/15, Average loss: 0.0003\n",
      "Epoch: 13/15, Average loss: 0.0003\n",
      "Epoch: 14/15, Average loss: 0.0003\n",
      "Training completed. Final training loss: 0.00034103141855448485, Validation loss: 0.00033711685836315154\n",
      "Epoch: 0/15, Average loss: 0.0008\n",
      "Epoch: 1/15, Average loss: 0.0006\n",
      "Epoch: 2/15, Average loss: 0.0005\n",
      "Epoch: 3/15, Average loss: 0.0005\n",
      "Epoch: 4/15, Average loss: 0.0005\n",
      "Epoch: 5/15, Average loss: 0.0004\n",
      "Epoch: 6/15, Average loss: 0.0004\n",
      "Epoch: 7/15, Average loss: 0.0004\n",
      "Epoch: 8/15, Average loss: 0.0004\n",
      "Epoch: 9/15, Average loss: 0.0004\n",
      "Epoch: 10/15, Average loss: 0.0004\n",
      "Epoch: 11/15, Average loss: 0.0004\n",
      "Epoch: 12/15, Average loss: 0.0004\n",
      "Epoch: 13/15, Average loss: 0.0004\n",
      "Epoch: 14/15, Average loss: 0.0004\n",
      "Training completed. Final training loss: 0.0003783856605490049, Validation loss: 0.00037727564200758934\n",
      "Epoch: 0/15, Average loss: 0.0009\n",
      "Epoch: 1/15, Average loss: 0.0007\n",
      "Epoch: 2/15, Average loss: 0.0006\n",
      "Epoch: 3/15, Average loss: 0.0005\n",
      "Epoch: 4/15, Average loss: 0.0005\n",
      "Epoch: 5/15, Average loss: 0.0005\n",
      "Epoch: 6/15, Average loss: 0.0005\n",
      "Epoch: 7/15, Average loss: 0.0005\n",
      "Epoch: 8/15, Average loss: 0.0004\n",
      "Epoch: 9/15, Average loss: 0.0004\n",
      "Epoch: 10/15, Average loss: 0.0004\n",
      "Epoch: 11/15, Average loss: 0.0004\n",
      "Epoch: 12/15, Average loss: 0.0004\n",
      "Epoch: 13/15, Average loss: 0.0004\n",
      "Epoch: 14/15, Average loss: 0.0004\n",
      "Training completed. Final training loss: 0.000413526304345578, Validation loss: 0.0004128978965803981\n",
      "Epoch: 0/15, Average loss: 0.0011\n",
      "Epoch: 1/15, Average loss: 0.0011\n",
      "Epoch: 2/15, Average loss: 0.0011\n",
      "Epoch: 3/15, Average loss: 0.0011\n",
      "Epoch: 4/15, Average loss: 0.0011\n",
      "Epoch: 5/15, Average loss: 0.0011\n",
      "Epoch: 6/15, Average loss: 0.0011\n",
      "Epoch: 7/15, Average loss: 0.0011\n",
      "Epoch: 8/15, Average loss: 0.0011\n",
      "Epoch: 9/15, Average loss: 0.0011\n",
      "Epoch: 10/15, Average loss: 0.0011\n",
      "Epoch: 11/15, Average loss: 0.0011\n",
      "Epoch: 12/15, Average loss: 0.0011\n",
      "Epoch: 13/15, Average loss: 0.0011\n",
      "Epoch: 14/15, Average loss: 0.0011\n",
      "Training completed. Final training loss: 0.0010522762250776093, Validation loss: 0.001060366228595376\n",
      "Epoch: 0/15, Average loss: 0.0011\n",
      "Epoch: 1/15, Average loss: 0.0011\n",
      "Epoch: 2/15, Average loss: 0.0011\n",
      "Epoch: 3/15, Average loss: 0.0011\n"
     ]
    },
    {
     "ename": "KeyboardInterrupt",
     "evalue": "",
     "output_type": "error",
     "traceback": [
      "\u001b[31m---------------------------------------------------------------------------\u001b[39m",
      "\u001b[31mKeyboardInterrupt\u001b[39m                         Traceback (most recent call last)",
      "\u001b[36mCell\u001b[39m\u001b[36m \u001b[39m\u001b[32mIn[86]\u001b[39m\u001b[32m, line 40\u001b[39m\n\u001b[32m     38\u001b[39m writer = SummaryWriter(log_dir=\u001b[33m'\u001b[39m\u001b[33m/Users/enricofrausin/Programmazione/PythonProjects/Tesi/Autoencoders/runs/MNIST/ld8_ep15_dr06_lr1e3_opeSigm_6hl\u001b[39m\u001b[33m'\u001b[39m)\n\u001b[32m     39\u001b[39m optimizer = optim.Adam(my_model.parameters(), lr=learning_rate, weight_decay=weight_decay)\n\u001b[32m---> \u001b[39m\u001b[32m40\u001b[39m \u001b[43mtrain\u001b[49m\u001b[43m(\u001b[49m\u001b[43mmy_model\u001b[49m\u001b[43m,\u001b[49m\u001b[43m \u001b[49m\u001b[43mwriter\u001b[49m\u001b[43m=\u001b[49m\u001b[43mwriter\u001b[49m\u001b[43m,\u001b[49m\u001b[43m \u001b[49m\u001b[43mtrain_loader\u001b[49m\u001b[43m=\u001b[49m\u001b[43mtrain_loader\u001b[49m\u001b[43m,\u001b[49m\u001b[43m \u001b[49m\u001b[43mval_loader\u001b[49m\u001b[43m=\u001b[49m\u001b[43mval_loader\u001b[49m\u001b[43m,\u001b[49m\u001b[43m \u001b[49m\u001b[43moptimizer\u001b[49m\u001b[43m=\u001b[49m\u001b[43moptimizer\u001b[49m\u001b[43m,\u001b[49m\u001b[43m \u001b[49m\u001b[43mepochs\u001b[49m\u001b[43m=\u001b[49m\u001b[32;43m15\u001b[39;49m\u001b[43m)\u001b[49m\n\u001b[32m     41\u001b[39m torch.save(my_model.state_dict(), \u001b[33m'\u001b[39m\u001b[33m/Users/enricofrausin/Programmazione/PythonProjects/Tesi/Autoencoders/models/MNIST/ld8_ep15_dr06_lr1e3_opeSigm_6hl.pth\u001b[39m\u001b[33m'\u001b[39m)\n\u001b[32m     43\u001b[39m \u001b[38;5;66;03m# 7 hidden layers\u001b[39;00m\n",
      "\u001b[36mFile \u001b[39m\u001b[32m<string>:6\u001b[39m, in \u001b[36mtrain\u001b[39m\u001b[34m(model, epochs, train_loader, val_loader, optimizer, writer, scheduler, save_tensorboard_parameters)\u001b[39m\n",
      "\u001b[36mFile \u001b[39m\u001b[32m~/Programmazione/Python_nn/.venv/lib/python3.11/site-packages/torch/utils/data/dataloader.py:733\u001b[39m, in \u001b[36m_BaseDataLoaderIter.__next__\u001b[39m\u001b[34m(self)\u001b[39m\n\u001b[32m    730\u001b[39m \u001b[38;5;28;01mif\u001b[39;00m \u001b[38;5;28mself\u001b[39m._sampler_iter \u001b[38;5;129;01mis\u001b[39;00m \u001b[38;5;28;01mNone\u001b[39;00m:\n\u001b[32m    731\u001b[39m     \u001b[38;5;66;03m# TODO(https://github.com/pytorch/pytorch/issues/76750)\u001b[39;00m\n\u001b[32m    732\u001b[39m     \u001b[38;5;28mself\u001b[39m._reset()  \u001b[38;5;66;03m# type: ignore[call-arg]\u001b[39;00m\n\u001b[32m--> \u001b[39m\u001b[32m733\u001b[39m data = \u001b[38;5;28;43mself\u001b[39;49m\u001b[43m.\u001b[49m\u001b[43m_next_data\u001b[49m\u001b[43m(\u001b[49m\u001b[43m)\u001b[49m\n\u001b[32m    734\u001b[39m \u001b[38;5;28mself\u001b[39m._num_yielded += \u001b[32m1\u001b[39m\n\u001b[32m    735\u001b[39m \u001b[38;5;28;01mif\u001b[39;00m (\n\u001b[32m    736\u001b[39m     \u001b[38;5;28mself\u001b[39m._dataset_kind == _DatasetKind.Iterable\n\u001b[32m    737\u001b[39m     \u001b[38;5;129;01mand\u001b[39;00m \u001b[38;5;28mself\u001b[39m._IterableDataset_len_called \u001b[38;5;129;01mis\u001b[39;00m \u001b[38;5;129;01mnot\u001b[39;00m \u001b[38;5;28;01mNone\u001b[39;00m\n\u001b[32m    738\u001b[39m     \u001b[38;5;129;01mand\u001b[39;00m \u001b[38;5;28mself\u001b[39m._num_yielded > \u001b[38;5;28mself\u001b[39m._IterableDataset_len_called\n\u001b[32m    739\u001b[39m ):\n",
      "\u001b[36mFile \u001b[39m\u001b[32m~/Programmazione/Python_nn/.venv/lib/python3.11/site-packages/torch/utils/data/dataloader.py:789\u001b[39m, in \u001b[36m_SingleProcessDataLoaderIter._next_data\u001b[39m\u001b[34m(self)\u001b[39m\n\u001b[32m    787\u001b[39m \u001b[38;5;28;01mdef\u001b[39;00m\u001b[38;5;250m \u001b[39m\u001b[34m_next_data\u001b[39m(\u001b[38;5;28mself\u001b[39m):\n\u001b[32m    788\u001b[39m     index = \u001b[38;5;28mself\u001b[39m._next_index()  \u001b[38;5;66;03m# may raise StopIteration\u001b[39;00m\n\u001b[32m--> \u001b[39m\u001b[32m789\u001b[39m     data = \u001b[38;5;28;43mself\u001b[39;49m\u001b[43m.\u001b[49m\u001b[43m_dataset_fetcher\u001b[49m\u001b[43m.\u001b[49m\u001b[43mfetch\u001b[49m\u001b[43m(\u001b[49m\u001b[43mindex\u001b[49m\u001b[43m)\u001b[49m  \u001b[38;5;66;03m# may raise StopIteration\u001b[39;00m\n\u001b[32m    790\u001b[39m     \u001b[38;5;28;01mif\u001b[39;00m \u001b[38;5;28mself\u001b[39m._pin_memory:\n\u001b[32m    791\u001b[39m         data = _utils.pin_memory.pin_memory(data, \u001b[38;5;28mself\u001b[39m._pin_memory_device)\n",
      "\u001b[36mFile \u001b[39m\u001b[32m~/Programmazione/Python_nn/.venv/lib/python3.11/site-packages/torch/utils/data/_utils/fetch.py:52\u001b[39m, in \u001b[36m_MapDatasetFetcher.fetch\u001b[39m\u001b[34m(self, possibly_batched_index)\u001b[39m\n\u001b[32m     50\u001b[39m         data = \u001b[38;5;28mself\u001b[39m.dataset.__getitems__(possibly_batched_index)\n\u001b[32m     51\u001b[39m     \u001b[38;5;28;01melse\u001b[39;00m:\n\u001b[32m---> \u001b[39m\u001b[32m52\u001b[39m         data = \u001b[43m[\u001b[49m\u001b[38;5;28;43mself\u001b[39;49m\u001b[43m.\u001b[49m\u001b[43mdataset\u001b[49m\u001b[43m[\u001b[49m\u001b[43midx\u001b[49m\u001b[43m]\u001b[49m\u001b[43m \u001b[49m\u001b[38;5;28;43;01mfor\u001b[39;49;00m\u001b[43m \u001b[49m\u001b[43midx\u001b[49m\u001b[43m \u001b[49m\u001b[38;5;129;43;01min\u001b[39;49;00m\u001b[43m \u001b[49m\u001b[43mpossibly_batched_index\u001b[49m\u001b[43m]\u001b[49m\n\u001b[32m     53\u001b[39m \u001b[38;5;28;01melse\u001b[39;00m:\n\u001b[32m     54\u001b[39m     data = \u001b[38;5;28mself\u001b[39m.dataset[possibly_batched_index]\n",
      "\u001b[36mFile \u001b[39m\u001b[32m~/Programmazione/Python_nn/.venv/lib/python3.11/site-packages/torch/utils/data/_utils/fetch.py:52\u001b[39m, in \u001b[36m<listcomp>\u001b[39m\u001b[34m(.0)\u001b[39m\n\u001b[32m     50\u001b[39m         data = \u001b[38;5;28mself\u001b[39m.dataset.__getitems__(possibly_batched_index)\n\u001b[32m     51\u001b[39m     \u001b[38;5;28;01melse\u001b[39;00m:\n\u001b[32m---> \u001b[39m\u001b[32m52\u001b[39m         data = [\u001b[38;5;28;43mself\u001b[39;49m\u001b[43m.\u001b[49m\u001b[43mdataset\u001b[49m\u001b[43m[\u001b[49m\u001b[43midx\u001b[49m\u001b[43m]\u001b[49m \u001b[38;5;28;01mfor\u001b[39;00m idx \u001b[38;5;129;01min\u001b[39;00m possibly_batched_index]\n\u001b[32m     53\u001b[39m \u001b[38;5;28;01melse\u001b[39;00m:\n\u001b[32m     54\u001b[39m     data = \u001b[38;5;28mself\u001b[39m.dataset[possibly_batched_index]\n",
      "\u001b[36mFile \u001b[39m\u001b[32m~/Programmazione/Python_nn/.venv/lib/python3.11/site-packages/torchvision/datasets/mnist.py:139\u001b[39m, in \u001b[36mMNIST.__getitem__\u001b[39m\u001b[34m(self, index)\u001b[39m\n\u001b[32m    131\u001b[39m \u001b[38;5;28;01mdef\u001b[39;00m\u001b[38;5;250m \u001b[39m\u001b[34m__getitem__\u001b[39m(\u001b[38;5;28mself\u001b[39m, index: \u001b[38;5;28mint\u001b[39m) -> Tuple[Any, Any]:\n\u001b[32m    132\u001b[39m \u001b[38;5;250m    \u001b[39m\u001b[33;03m\"\"\"\u001b[39;00m\n\u001b[32m    133\u001b[39m \u001b[33;03m    Args:\u001b[39;00m\n\u001b[32m    134\u001b[39m \u001b[33;03m        index (int): Index\u001b[39;00m\n\u001b[32m   (...)\u001b[39m\u001b[32m    137\u001b[39m \u001b[33;03m        tuple: (image, target) where target is index of the target class.\u001b[39;00m\n\u001b[32m    138\u001b[39m \u001b[33;03m    \"\"\"\u001b[39;00m\n\u001b[32m--> \u001b[39m\u001b[32m139\u001b[39m     img, target = \u001b[38;5;28mself\u001b[39m.data[index], \u001b[38;5;28;43mint\u001b[39;49m\u001b[43m(\u001b[49m\u001b[38;5;28;43mself\u001b[39;49m\u001b[43m.\u001b[49m\u001b[43mtargets\u001b[49m\u001b[43m[\u001b[49m\u001b[43mindex\u001b[49m\u001b[43m]\u001b[49m\u001b[43m)\u001b[49m\n\u001b[32m    141\u001b[39m     \u001b[38;5;66;03m# doing this so that it is consistent with all other datasets\u001b[39;00m\n\u001b[32m    142\u001b[39m     \u001b[38;5;66;03m# to return a PIL Image\u001b[39;00m\n\u001b[32m    143\u001b[39m     img = Image.fromarray(img.numpy(), mode=\u001b[33m\"\u001b[39m\u001b[33mL\u001b[39m\u001b[33m\"\u001b[39m)\n",
      "\u001b[31mKeyboardInterrupt\u001b[39m: "
     ]
    }
   ],
   "source": [
    "# 1 hidden layer\n",
    "my_model = AE_0(input_dim=input_dim, latent_dim=8, decrease_rate=0.5, device=device, hidden_layers=1, output_activation_encoder=nn.Sigmoid, output_activation_decoder=None).to(device)\n",
    "writer = SummaryWriter(log_dir='/Users/enricofrausin/Programmazione/PythonProjects/Tesi/Autoencoders/runs/MNIST/ld8_ep15_dr05_lr1e3_opeSigm_1hl')\n",
    "optimizer = optim.Adam(my_model.parameters(), lr=learning_rate, weight_decay=weight_decay)\n",
    "train(my_model, writer=writer, train_loader=train_loader, val_loader=val_loader, optimizer=optimizer, epochs=15)\n",
    "torch.save(my_model.state_dict(), '/Users/enricofrausin/Programmazione/PythonProjects/Tesi/Autoencoders/models/MNIST/ld8_ep15_dr05_lr1e3_opeSigm_1hl.pth')\n",
    "\n",
    "# 2 hidden layers\n",
    "my_model = AE_0(input_dim=input_dim, latent_dim=8, decrease_rate=0.5, device=device, hidden_layers=2, output_activation_encoder=nn.Sigmoid, output_activation_decoder=None).to(device)\n",
    "writer = SummaryWriter(log_dir='/Users/enricofrausin/Programmazione/PythonProjects/Tesi/Autoencoders/runs/MNIST/ld8_ep15_dr05_lr1e3_opeSigm_2hl')\n",
    "optimizer = optim.Adam(my_model.parameters(), lr=learning_rate, weight_decay=weight_decay)\n",
    "train(my_model, writer=writer, train_loader=train_loader, val_loader=val_loader, optimizer=optimizer, epochs=15)\n",
    "torch.save(my_model.state_dict(), '/Users/enricofrausin/Programmazione/PythonProjects/Tesi/Autoencoders/models/MNIST/ld8_ep15_dr05_lr1e3_opeSigm_2hl.pth')\n",
    "\n",
    "# 3 hidden layers\n",
    "my_model = AE_0(input_dim=input_dim, latent_dim=8, decrease_rate=0.5, device=device, hidden_layers=3, output_activation_encoder=nn.Sigmoid, output_activation_decoder=None).to(device)\n",
    "writer = SummaryWriter(log_dir='/Users/enricofrausin/Programmazione/PythonProjects/Tesi/Autoencoders/runs/MNIST/ld8_ep15_dr05_lr1e3_opeSigm_3hl')\n",
    "optimizer = optim.Adam(my_model.parameters(), lr=learning_rate, weight_decay=weight_decay)\n",
    "train(my_model, writer=writer, train_loader=train_loader, val_loader=val_loader, optimizer=optimizer, epochs=15)\n",
    "torch.save(my_model.state_dict(), '/Users/enricofrausin/Programmazione/PythonProjects/Tesi/Autoencoders/models/MNIST/ld8_ep15_dr05_lr1e3_opeSigm_3hl.pth')\n",
    "\n",
    "# 4 hidden layers\n",
    "my_model = AE_0(input_dim=input_dim, latent_dim=8, decrease_rate=0.5, device=device, hidden_layers=4, output_activation_encoder=nn.Sigmoid, output_activation_decoder=None).to(device)\n",
    "writer = SummaryWriter(log_dir='/Users/enricofrausin/Programmazione/PythonProjects/Tesi/Autoencoders/runs/MNIST/ld8_ep15_dr05_lr1e3_opeSigm_4hl')\n",
    "optimizer = optim.Adam(my_model.parameters(), lr=learning_rate, weight_decay=weight_decay)\n",
    "train(my_model, writer=writer, train_loader=train_loader, val_loader=val_loader, optimizer=optimizer, epochs=15)\n",
    "torch.save(my_model.state_dict(), '/Users/enricofrausin/Programmazione/PythonProjects/Tesi/Autoencoders/models/MNIST/ld8_ep15_dr05_lr1e3_opeSigm_4hl.pth')\n"
   ]
  },
  {
   "cell_type": "code",
   "execution_count": null,
   "id": "3f1b127b",
   "metadata": {},
   "outputs": [
    {
     "name": "stdout",
     "output_type": "stream",
     "text": [
      "Epoch: 0/15, Average loss: 0.0010\n",
      "Epoch: 1/15, Average loss: 0.0009\n",
      "Epoch: 2/15, Average loss: 0.0008\n",
      "Epoch: 3/15, Average loss: 0.0008\n",
      "Epoch: 4/15, Average loss: 0.0008\n",
      "Epoch: 5/15, Average loss: 0.0007\n",
      "Epoch: 6/15, Average loss: 0.0007\n",
      "Epoch: 7/15, Average loss: 0.0007\n",
      "Epoch: 8/15, Average loss: 0.0007\n",
      "Epoch: 9/15, Average loss: 0.0007\n",
      "Epoch: 10/15, Average loss: 0.0007\n",
      "Epoch: 11/15, Average loss: 0.0007\n",
      "Epoch: 12/15, Average loss: 0.0007\n",
      "Epoch: 13/15, Average loss: 0.0007\n",
      "Epoch: 14/15, Average loss: 0.0007\n",
      "Training completed. Final training loss: 0.0006705451377977927, Validation loss: 0.0006723556384444237\n",
      "Epoch: 0/15, Average loss: 0.0011\n",
      "Epoch: 1/15, Average loss: 0.0011\n",
      "Epoch: 2/15, Average loss: 0.0011\n",
      "Epoch: 3/15, Average loss: 0.0011\n",
      "Epoch: 4/15, Average loss: 0.0011\n",
      "Epoch: 5/15, Average loss: 0.0011\n",
      "Epoch: 6/15, Average loss: 0.0011\n",
      "Epoch: 7/15, Average loss: 0.0011\n",
      "Epoch: 8/15, Average loss: 0.0011\n",
      "Epoch: 9/15, Average loss: 0.0011\n",
      "Epoch: 10/15, Average loss: 0.0011\n",
      "Epoch: 11/15, Average loss: 0.0011\n",
      "Epoch: 12/15, Average loss: 0.0011\n",
      "Epoch: 13/15, Average loss: 0.0011\n",
      "Epoch: 14/15, Average loss: 0.0011\n",
      "Training completed. Final training loss: 0.001052121254367133, Validation loss: 0.0010613720007240771\n",
      "Epoch: 0/15, Average loss: 0.0011\n",
      "Epoch: 1/15, Average loss: 0.0011\n",
      "Epoch: 2/15, Average loss: 0.0011\n",
      "Epoch: 3/15, Average loss: 0.0011\n",
      "Epoch: 4/15, Average loss: 0.0011\n",
      "Epoch: 5/15, Average loss: 0.0011\n",
      "Epoch: 6/15, Average loss: 0.0011\n",
      "Epoch: 7/15, Average loss: 0.0011\n",
      "Epoch: 8/15, Average loss: 0.0011\n",
      "Epoch: 9/15, Average loss: 0.0011\n",
      "Epoch: 10/15, Average loss: 0.0011\n",
      "Epoch: 11/15, Average loss: 0.0011\n",
      "Epoch: 12/15, Average loss: 0.0011\n",
      "Epoch: 13/15, Average loss: 0.0011\n",
      "Epoch: 14/15, Average loss: 0.0011\n",
      "Training completed. Final training loss: 0.0010521146930754185, Validation loss: 0.0010599195212125778\n"
     ]
    }
   ],
   "source": [
    "# 5 hidden layers\n",
    "learning_rate = 1e-4\n",
    "\n",
    "my_model = AE_0(input_dim=input_dim, latent_dim=8, decrease_rate=0.55, device=device, hidden_layers=5, output_activation_encoder=nn.Sigmoid, output_activation_decoder=None).to(device)\n",
    "writer = SummaryWriter(log_dir='/Users/enricofrausin/Programmazione/PythonProjects/Tesi/Autoencoders/runs/MNIST/ld8_ep15_dr055_lr1e4_opeSigm_5hl')\n",
    "optimizer = optim.Adam(my_model.parameters(), lr=learning_rate, weight_decay=weight_decay)\n",
    "train(my_model, writer=writer, train_loader=train_loader, val_loader=val_loader, optimizer=optimizer, epochs=15)\n",
    "torch.save(my_model.state_dict(), '/Users/enricofrausin/Programmazione/PythonProjects/Tesi/Autoencoders/models/MNIST/ld8_ep15_dr055_lr1e4_opeSigm_5hl.pth')\n"
   ]
  },
  {
   "cell_type": "code",
   "execution_count": null,
   "id": "7d89bb2c",
   "metadata": {},
   "outputs": [
    {
     "name": "stdout",
     "output_type": "stream",
     "text": [
      "Epoch: 0/15, Average loss: 0.0013\n",
      "Epoch: 1/15, Average loss: 0.0010\n",
      "Epoch: 2/15, Average loss: 0.0010\n",
      "Epoch: 3/15, Average loss: 0.0010\n",
      "Epoch: 4/15, Average loss: 0.0010\n",
      "Epoch: 5/15, Average loss: 0.0010\n",
      "Epoch: 6/15, Average loss: 0.0009\n",
      "Epoch: 7/15, Average loss: 0.0009\n",
      "Epoch: 8/15, Average loss: 0.0009\n",
      "Epoch: 9/15, Average loss: 0.0009\n",
      "Epoch: 10/15, Average loss: 0.0009\n",
      "Epoch: 11/15, Average loss: 0.0009\n",
      "Epoch: 12/15, Average loss: 0.0009\n",
      "Epoch: 13/15, Average loss: 0.0008\n",
      "Epoch: 14/15, Average loss: 0.0008\n",
      "Training completed. Final training loss: 0.0008423349551856517, Validation loss: 0.00084237618483603\n"
     ]
    }
   ],
   "source": [
    "# 6 hidden layers\n",
    "learning_rate = 1e-5\n",
    "my_model = AE_0(input_dim=input_dim, latent_dim=8, decrease_rate=0.6, device=device, hidden_layers=6, output_activation_encoder=nn.Sigmoid, output_activation_decoder=None).to(device)\n",
    "writer = SummaryWriter(log_dir='/Users/enricofrausin/Programmazione/PythonProjects/Tesi/Autoencoders/runs/MNIST/ld8_ep15_dr06_lr1e5_opeSigm_6hl')\n",
    "optimizer = optim.Adam(my_model.parameters(), lr=learning_rate, weight_decay=weight_decay)\n",
    "train(my_model, writer=writer, train_loader=train_loader, val_loader=val_loader, optimizer=optimizer, epochs=15)\n",
    "torch.save(my_model.state_dict(), '/Users/enricofrausin/Programmazione/PythonProjects/Tesi/Autoencoders/models/MNIST/ld8_ep15_dr06_lr1e5_opeSigm_6hl.pth')\n"
   ]
  },
  {
   "cell_type": "code",
   "execution_count": 104,
   "id": "6d5541c9",
   "metadata": {},
   "outputs": [
    {
     "name": "stdout",
     "output_type": "stream",
     "text": [
      "Epoch: 0/15, Average loss: 0.0013\n",
      "Epoch: 1/15, Average loss: 0.0011\n",
      "Epoch: 2/15, Average loss: 0.0011\n",
      "Epoch: 3/15, Average loss: 0.0011\n",
      "Epoch: 4/15, Average loss: 0.0011\n",
      "Epoch: 5/15, Average loss: 0.0011\n",
      "Epoch: 6/15, Average loss: 0.0011\n",
      "Epoch: 7/15, Average loss: 0.0011\n",
      "Epoch: 8/15, Average loss: 0.0011\n",
      "Epoch: 9/15, Average loss: 0.0011\n",
      "Epoch: 10/15, Average loss: 0.0011\n",
      "Epoch: 11/15, Average loss: 0.0011\n",
      "Epoch: 12/15, Average loss: 0.0011\n",
      "Epoch: 13/15, Average loss: 0.0011\n",
      "Epoch: 14/15, Average loss: 0.0011\n",
      "Training completed. Final training loss: 0.001051405894694229, Validation loss: 0.001059711416810751\n"
     ]
    }
   ],
   "source": [
    "\n",
    "# 7 hidden layers\n",
    "\n",
    "learning_rate = 1e-5\n",
    "\n",
    "my_model = AE_0(input_dim=input_dim, latent_dim=8, decrease_rate=0.6, device=device, hidden_layers=7, output_activation_encoder=nn.Sigmoid, output_activation_decoder=None).to(device)\n",
    "writer = SummaryWriter(log_dir='/Users/enricofrausin/Programmazione/PythonProjects/Tesi/Autoencoders/runs/MNIST/ld8_ep15_dr06_lr1e5_slr5_01_opeSigm_7hl')\n",
    "optimizer = optim.Adam(my_model.parameters(), lr=learning_rate, weight_decay=weight_decay)\n",
    "scheduler = StepLR(optimizer, step_size=5, gamma=0.1)\n",
    "train(my_model, writer=writer, train_loader=train_loader, val_loader=val_loader, optimizer=optimizer, epochs=15, scheduler=scheduler)\n",
    "torch.save(my_model.state_dict(), '/Users/enricofrausin/Programmazione/PythonProjects/Tesi/Autoencoders/models/MNIST/ld8_ep15_dr06_lr1e5_slr5_01_opeSigm_7hl.pth')"
   ]
  },
  {
   "cell_type": "code",
   "execution_count": 109,
   "id": "96c313a6",
   "metadata": {},
   "outputs": [
    {
     "data": {
      "image/png": "[encoded data removed]",
      "text/plain": [
       "<Figure size 2000x400 with 10 Axes>"
      ]
     },
     "metadata": {},
     "output_type": "display_data"
    }
   ],
   "source": [
    "plot_original_vs_decoded(my_model, train_loader, device=device, num_samples=5)"
   ]
  },
  {
   "cell_type": "code",
   "execution_count": null,
   "id": "108cf897",
   "metadata": {},
   "outputs": [],
   "source": []
  }
 ],
 "metadata": {
  "kernelspec": {
   "display_name": ".venv",
   "language": "python",
   "name": "python3"
  },
  "language_info": {
   "codemirror_mode": {
    "name": "ipython",
    "version": 3
   },
   "file_extension": ".py",
   "mimetype": "text/x-python",
   "name": "python",
   "nbconvert_exporter": "python",
   "pygments_lexer": "ipython3",
   "version": "3.11.12"
  }
 },
 "nbformat": 4,
 "nbformat_minor": 5
}
